{
 "cells": [
  {
   "cell_type": "markdown",
   "metadata": {},
   "source": [
    "##  Importing the libraries"
   ]
  },
  {
   "cell_type": "code",
   "execution_count": 48,
   "metadata": {},
   "outputs": [],
   "source": [
    "import pandas as pd\n",
    "import numpy as np\n",
    "import matplotlib.pyplot as plt\n",
    "\n",
    "from sklearn.linear_model import LinearRegression,Ridge,Lasso\n",
    "from sklearn.tree import DecisionTreeRegressor\n",
    "from sklearn.ensemble import RandomForestRegressor,GradientBoostingRegressor\n",
    "from sklearn.metrics import r2_score,mean_squared_error\n",
    "from sklearn import preprocessing\n",
    "from sklearn.model_selection import train_test_split,GridSearchCV,RandomizedSearchCV\n"
   ]
  },
  {
   "cell_type": "markdown",
   "metadata": {},
   "source": [
    "### Loading the dataset"
   ]
  },
  {
   "cell_type": "code",
   "execution_count": 2,
   "metadata": {},
   "outputs": [],
   "source": [
    "data = pd.read_csv(\"E:\\\\learnings great\\\\car-mpg.csv\")"
   ]
  },
  {
   "cell_type": "markdown",
   "metadata": {},
   "source": [
    "### Now go through the data or perform some EDA (Exploratory Data Analysis), to understand and get familiar with the dataset."
   ]
  },
  {
   "cell_type": "markdown",
   "metadata": {},
   "source": [
    "#### Viewing first five rows of data"
   ]
  },
  {
   "cell_type": "code",
   "execution_count": 3,
   "metadata": {
    "scrolled": true
   },
   "outputs": [
    {
     "data": {
      "text/html": [
       "<div>\n",
       "<style scoped>\n",
       "    .dataframe tbody tr th:only-of-type {\n",
       "        vertical-align: middle;\n",
       "    }\n",
       "\n",
       "    .dataframe tbody tr th {\n",
       "        vertical-align: top;\n",
       "    }\n",
       "\n",
       "    .dataframe thead th {\n",
       "        text-align: right;\n",
       "    }\n",
       "</style>\n",
       "<table border=\"1\" class=\"dataframe\">\n",
       "  <thead>\n",
       "    <tr style=\"text-align: right;\">\n",
       "      <th></th>\n",
       "      <th>mpg</th>\n",
       "      <th>cyl</th>\n",
       "      <th>disp</th>\n",
       "      <th>hp</th>\n",
       "      <th>wt</th>\n",
       "      <th>acc</th>\n",
       "      <th>yr</th>\n",
       "      <th>origin</th>\n",
       "      <th>car_type</th>\n",
       "      <th>car_name</th>\n",
       "    </tr>\n",
       "  </thead>\n",
       "  <tbody>\n",
       "    <tr>\n",
       "      <th>0</th>\n",
       "      <td>18.0</td>\n",
       "      <td>8</td>\n",
       "      <td>307.0</td>\n",
       "      <td>130</td>\n",
       "      <td>3504</td>\n",
       "      <td>12.0</td>\n",
       "      <td>70</td>\n",
       "      <td>1</td>\n",
       "      <td>0</td>\n",
       "      <td>chevrolet chevelle malibu</td>\n",
       "    </tr>\n",
       "    <tr>\n",
       "      <th>1</th>\n",
       "      <td>15.0</td>\n",
       "      <td>8</td>\n",
       "      <td>350.0</td>\n",
       "      <td>165</td>\n",
       "      <td>3693</td>\n",
       "      <td>11.5</td>\n",
       "      <td>70</td>\n",
       "      <td>1</td>\n",
       "      <td>0</td>\n",
       "      <td>buick skylark 320</td>\n",
       "    </tr>\n",
       "    <tr>\n",
       "      <th>2</th>\n",
       "      <td>18.0</td>\n",
       "      <td>8</td>\n",
       "      <td>318.0</td>\n",
       "      <td>150</td>\n",
       "      <td>3436</td>\n",
       "      <td>11.0</td>\n",
       "      <td>70</td>\n",
       "      <td>1</td>\n",
       "      <td>0</td>\n",
       "      <td>plymouth satellite</td>\n",
       "    </tr>\n",
       "    <tr>\n",
       "      <th>3</th>\n",
       "      <td>16.0</td>\n",
       "      <td>8</td>\n",
       "      <td>304.0</td>\n",
       "      <td>150</td>\n",
       "      <td>3433</td>\n",
       "      <td>12.0</td>\n",
       "      <td>70</td>\n",
       "      <td>1</td>\n",
       "      <td>0</td>\n",
       "      <td>amc rebel sst</td>\n",
       "    </tr>\n",
       "    <tr>\n",
       "      <th>4</th>\n",
       "      <td>17.0</td>\n",
       "      <td>8</td>\n",
       "      <td>302.0</td>\n",
       "      <td>140</td>\n",
       "      <td>3449</td>\n",
       "      <td>10.5</td>\n",
       "      <td>70</td>\n",
       "      <td>1</td>\n",
       "      <td>0</td>\n",
       "      <td>ford torino</td>\n",
       "    </tr>\n",
       "  </tbody>\n",
       "</table>\n",
       "</div>"
      ],
      "text/plain": [
       "    mpg  cyl   disp   hp    wt   acc  yr  origin  car_type  \\\n",
       "0  18.0    8  307.0  130  3504  12.0  70       1         0   \n",
       "1  15.0    8  350.0  165  3693  11.5  70       1         0   \n",
       "2  18.0    8  318.0  150  3436  11.0  70       1         0   \n",
       "3  16.0    8  304.0  150  3433  12.0  70       1         0   \n",
       "4  17.0    8  302.0  140  3449  10.5  70       1         0   \n",
       "\n",
       "                    car_name  \n",
       "0  chevrolet chevelle malibu  \n",
       "1          buick skylark 320  \n",
       "2         plymouth satellite  \n",
       "3              amc rebel sst  \n",
       "4                ford torino  "
      ]
     },
     "execution_count": 3,
     "metadata": {},
     "output_type": "execute_result"
    }
   ],
   "source": [
    "data.head()"
   ]
  },
  {
   "cell_type": "code",
   "execution_count": 4,
   "metadata": {},
   "outputs": [
    {
     "data": {
      "text/html": [
       "<div>\n",
       "<style scoped>\n",
       "    .dataframe tbody tr th:only-of-type {\n",
       "        vertical-align: middle;\n",
       "    }\n",
       "\n",
       "    .dataframe tbody tr th {\n",
       "        vertical-align: top;\n",
       "    }\n",
       "\n",
       "    .dataframe thead th {\n",
       "        text-align: right;\n",
       "    }\n",
       "</style>\n",
       "<table border=\"1\" class=\"dataframe\">\n",
       "  <thead>\n",
       "    <tr style=\"text-align: right;\">\n",
       "      <th></th>\n",
       "      <th>mpg</th>\n",
       "      <th>cyl</th>\n",
       "      <th>disp</th>\n",
       "      <th>hp</th>\n",
       "      <th>wt</th>\n",
       "      <th>acc</th>\n",
       "      <th>yr</th>\n",
       "      <th>origin</th>\n",
       "      <th>car_type</th>\n",
       "      <th>car_name</th>\n",
       "    </tr>\n",
       "  </thead>\n",
       "  <tbody>\n",
       "    <tr>\n",
       "      <th>32</th>\n",
       "      <td>25.0</td>\n",
       "      <td>4</td>\n",
       "      <td>98.0</td>\n",
       "      <td>?</td>\n",
       "      <td>2046</td>\n",
       "      <td>19.0</td>\n",
       "      <td>71</td>\n",
       "      <td>1</td>\n",
       "      <td>1</td>\n",
       "      <td>ford pinto</td>\n",
       "    </tr>\n",
       "    <tr>\n",
       "      <th>126</th>\n",
       "      <td>21.0</td>\n",
       "      <td>6</td>\n",
       "      <td>200.0</td>\n",
       "      <td>?</td>\n",
       "      <td>2875</td>\n",
       "      <td>17.0</td>\n",
       "      <td>74</td>\n",
       "      <td>1</td>\n",
       "      <td>0</td>\n",
       "      <td>ford maverick</td>\n",
       "    </tr>\n",
       "    <tr>\n",
       "      <th>330</th>\n",
       "      <td>40.9</td>\n",
       "      <td>4</td>\n",
       "      <td>85.0</td>\n",
       "      <td>?</td>\n",
       "      <td>1835</td>\n",
       "      <td>17.3</td>\n",
       "      <td>80</td>\n",
       "      <td>2</td>\n",
       "      <td>1</td>\n",
       "      <td>renault lecar deluxe</td>\n",
       "    </tr>\n",
       "    <tr>\n",
       "      <th>336</th>\n",
       "      <td>23.6</td>\n",
       "      <td>4</td>\n",
       "      <td>140.0</td>\n",
       "      <td>?</td>\n",
       "      <td>2905</td>\n",
       "      <td>14.3</td>\n",
       "      <td>80</td>\n",
       "      <td>1</td>\n",
       "      <td>1</td>\n",
       "      <td>ford mustang cobra</td>\n",
       "    </tr>\n",
       "    <tr>\n",
       "      <th>354</th>\n",
       "      <td>34.5</td>\n",
       "      <td>4</td>\n",
       "      <td>100.0</td>\n",
       "      <td>?</td>\n",
       "      <td>2320</td>\n",
       "      <td>15.8</td>\n",
       "      <td>81</td>\n",
       "      <td>2</td>\n",
       "      <td>1</td>\n",
       "      <td>renault 18i</td>\n",
       "    </tr>\n",
       "  </tbody>\n",
       "</table>\n",
       "</div>"
      ],
      "text/plain": [
       "      mpg  cyl   disp hp    wt   acc  yr  origin  car_type  \\\n",
       "32   25.0    4   98.0  ?  2046  19.0  71       1         1   \n",
       "126  21.0    6  200.0  ?  2875  17.0  74       1         0   \n",
       "330  40.9    4   85.0  ?  1835  17.3  80       2         1   \n",
       "336  23.6    4  140.0  ?  2905  14.3  80       1         1   \n",
       "354  34.5    4  100.0  ?  2320  15.8  81       2         1   \n",
       "\n",
       "                 car_name  \n",
       "32             ford pinto  \n",
       "126         ford maverick  \n",
       "330  renault lecar deluxe  \n",
       "336    ford mustang cobra  \n",
       "354           renault 18i  "
      ]
     },
     "execution_count": 4,
     "metadata": {},
     "output_type": "execute_result"
    }
   ],
   "source": [
    "\n",
    "data.loc[data['hp']=='?'].head()"
   ]
  },
  {
   "cell_type": "code",
   "execution_count": 5,
   "metadata": {},
   "outputs": [],
   "source": [
    "data = data.drop(['car_name'], axis = 1)"
   ]
  },
  {
   "cell_type": "code",
   "execution_count": 6,
   "metadata": {},
   "outputs": [],
   "source": [
    "# we can see that the odd value is '?' representing null\n",
    "# so we now change it to NaN value and fill the spot with the median hp(horsepower)\n",
    "data.hp = data.hp.str.replace('?','NaN').astype(float)\n",
    "data.hp.fillna(data.hp.median(),inplace=True)\n",
    "data.hp = data.hp.astype(int)\n",
    "\n"
   ]
  },
  {
   "cell_type": "code",
   "execution_count": 7,
   "metadata": {},
   "outputs": [
    {
     "name": "stdout",
     "output_type": "stream",
     "text": [
      "<class 'pandas.core.frame.DataFrame'>\n",
      "RangeIndex: 398 entries, 0 to 397\n",
      "Data columns (total 9 columns):\n",
      " #   Column    Non-Null Count  Dtype  \n",
      "---  ------    --------------  -----  \n",
      " 0   mpg       398 non-null    float64\n",
      " 1   cyl       398 non-null    int64  \n",
      " 2   disp      398 non-null    float64\n",
      " 3   hp        398 non-null    int32  \n",
      " 4   wt        398 non-null    int64  \n",
      " 5   acc       398 non-null    float64\n",
      " 6   yr        398 non-null    int64  \n",
      " 7   origin    398 non-null    int64  \n",
      " 8   car_type  398 non-null    int64  \n",
      "dtypes: float64(3), int32(1), int64(5)\n",
      "memory usage: 26.6 KB\n"
     ]
    }
   ],
   "source": [
    "data.info()"
   ]
  },
  {
   "cell_type": "code",
   "execution_count": 8,
   "metadata": {
    "scrolled": true
   },
   "outputs": [
    {
     "data": {
      "text/html": [
       "<div>\n",
       "<style scoped>\n",
       "    .dataframe tbody tr th:only-of-type {\n",
       "        vertical-align: middle;\n",
       "    }\n",
       "\n",
       "    .dataframe tbody tr th {\n",
       "        vertical-align: top;\n",
       "    }\n",
       "\n",
       "    .dataframe thead th {\n",
       "        text-align: right;\n",
       "    }\n",
       "</style>\n",
       "<table border=\"1\" class=\"dataframe\">\n",
       "  <thead>\n",
       "    <tr style=\"text-align: right;\">\n",
       "      <th></th>\n",
       "      <th>mpg</th>\n",
       "      <th>cyl</th>\n",
       "      <th>disp</th>\n",
       "      <th>hp</th>\n",
       "      <th>wt</th>\n",
       "      <th>acc</th>\n",
       "      <th>yr</th>\n",
       "      <th>origin</th>\n",
       "      <th>car_type</th>\n",
       "    </tr>\n",
       "  </thead>\n",
       "  <tbody>\n",
       "    <tr>\n",
       "      <th>count</th>\n",
       "      <td>398.000000</td>\n",
       "      <td>398.000000</td>\n",
       "      <td>398.000000</td>\n",
       "      <td>398.000000</td>\n",
       "      <td>398.000000</td>\n",
       "      <td>398.000000</td>\n",
       "      <td>398.000000</td>\n",
       "      <td>398.000000</td>\n",
       "      <td>398.000000</td>\n",
       "    </tr>\n",
       "    <tr>\n",
       "      <th>mean</th>\n",
       "      <td>23.514573</td>\n",
       "      <td>5.454774</td>\n",
       "      <td>193.425879</td>\n",
       "      <td>104.296482</td>\n",
       "      <td>2970.424623</td>\n",
       "      <td>15.568090</td>\n",
       "      <td>76.010050</td>\n",
       "      <td>1.572864</td>\n",
       "      <td>0.530151</td>\n",
       "    </tr>\n",
       "    <tr>\n",
       "      <th>std</th>\n",
       "      <td>7.815984</td>\n",
       "      <td>1.701004</td>\n",
       "      <td>104.269838</td>\n",
       "      <td>38.224809</td>\n",
       "      <td>846.841774</td>\n",
       "      <td>2.757689</td>\n",
       "      <td>3.697627</td>\n",
       "      <td>0.802055</td>\n",
       "      <td>0.499718</td>\n",
       "    </tr>\n",
       "    <tr>\n",
       "      <th>min</th>\n",
       "      <td>9.000000</td>\n",
       "      <td>3.000000</td>\n",
       "      <td>68.000000</td>\n",
       "      <td>46.000000</td>\n",
       "      <td>1613.000000</td>\n",
       "      <td>8.000000</td>\n",
       "      <td>70.000000</td>\n",
       "      <td>1.000000</td>\n",
       "      <td>0.000000</td>\n",
       "    </tr>\n",
       "    <tr>\n",
       "      <th>25%</th>\n",
       "      <td>17.500000</td>\n",
       "      <td>4.000000</td>\n",
       "      <td>104.250000</td>\n",
       "      <td>76.000000</td>\n",
       "      <td>2223.750000</td>\n",
       "      <td>13.825000</td>\n",
       "      <td>73.000000</td>\n",
       "      <td>1.000000</td>\n",
       "      <td>0.000000</td>\n",
       "    </tr>\n",
       "    <tr>\n",
       "      <th>50%</th>\n",
       "      <td>23.000000</td>\n",
       "      <td>4.000000</td>\n",
       "      <td>148.500000</td>\n",
       "      <td>93.000000</td>\n",
       "      <td>2803.500000</td>\n",
       "      <td>15.500000</td>\n",
       "      <td>76.000000</td>\n",
       "      <td>1.000000</td>\n",
       "      <td>1.000000</td>\n",
       "    </tr>\n",
       "    <tr>\n",
       "      <th>75%</th>\n",
       "      <td>29.000000</td>\n",
       "      <td>8.000000</td>\n",
       "      <td>262.000000</td>\n",
       "      <td>125.000000</td>\n",
       "      <td>3608.000000</td>\n",
       "      <td>17.175000</td>\n",
       "      <td>79.000000</td>\n",
       "      <td>2.000000</td>\n",
       "      <td>1.000000</td>\n",
       "    </tr>\n",
       "    <tr>\n",
       "      <th>max</th>\n",
       "      <td>46.600000</td>\n",
       "      <td>8.000000</td>\n",
       "      <td>455.000000</td>\n",
       "      <td>230.000000</td>\n",
       "      <td>5140.000000</td>\n",
       "      <td>24.800000</td>\n",
       "      <td>82.000000</td>\n",
       "      <td>3.000000</td>\n",
       "      <td>1.000000</td>\n",
       "    </tr>\n",
       "  </tbody>\n",
       "</table>\n",
       "</div>"
      ],
      "text/plain": [
       "              mpg         cyl        disp          hp           wt  \\\n",
       "count  398.000000  398.000000  398.000000  398.000000   398.000000   \n",
       "mean    23.514573    5.454774  193.425879  104.296482  2970.424623   \n",
       "std      7.815984    1.701004  104.269838   38.224809   846.841774   \n",
       "min      9.000000    3.000000   68.000000   46.000000  1613.000000   \n",
       "25%     17.500000    4.000000  104.250000   76.000000  2223.750000   \n",
       "50%     23.000000    4.000000  148.500000   93.000000  2803.500000   \n",
       "75%     29.000000    8.000000  262.000000  125.000000  3608.000000   \n",
       "max     46.600000    8.000000  455.000000  230.000000  5140.000000   \n",
       "\n",
       "              acc          yr      origin    car_type  \n",
       "count  398.000000  398.000000  398.000000  398.000000  \n",
       "mean    15.568090   76.010050    1.572864    0.530151  \n",
       "std      2.757689    3.697627    0.802055    0.499718  \n",
       "min      8.000000   70.000000    1.000000    0.000000  \n",
       "25%     13.825000   73.000000    1.000000    0.000000  \n",
       "50%     15.500000   76.000000    1.000000    1.000000  \n",
       "75%     17.175000   79.000000    2.000000    1.000000  \n",
       "max     24.800000   82.000000    3.000000    1.000000  "
      ]
     },
     "execution_count": 8,
     "metadata": {},
     "output_type": "execute_result"
    }
   ],
   "source": [
    "# To show the summary statistics of numeric variables.\n",
    "data.describe()"
   ]
  },
  {
   "cell_type": "code",
   "execution_count": 9,
   "metadata": {},
   "outputs": [
    {
     "data": {
      "text/html": [
       "<div>\n",
       "<style scoped>\n",
       "    .dataframe tbody tr th:only-of-type {\n",
       "        vertical-align: middle;\n",
       "    }\n",
       "\n",
       "    .dataframe tbody tr th {\n",
       "        vertical-align: top;\n",
       "    }\n",
       "\n",
       "    .dataframe thead th {\n",
       "        text-align: right;\n",
       "    }\n",
       "</style>\n",
       "<table border=\"1\" class=\"dataframe\">\n",
       "  <thead>\n",
       "    <tr style=\"text-align: right;\">\n",
       "      <th></th>\n",
       "      <th>Column Type</th>\n",
       "      <th>Count</th>\n",
       "    </tr>\n",
       "  </thead>\n",
       "  <tbody>\n",
       "    <tr>\n",
       "      <th>0</th>\n",
       "      <td>int32</td>\n",
       "      <td>1</td>\n",
       "    </tr>\n",
       "    <tr>\n",
       "      <th>1</th>\n",
       "      <td>int64</td>\n",
       "      <td>5</td>\n",
       "    </tr>\n",
       "    <tr>\n",
       "      <th>2</th>\n",
       "      <td>float64</td>\n",
       "      <td>3</td>\n",
       "    </tr>\n",
       "  </tbody>\n",
       "</table>\n",
       "</div>"
      ],
      "text/plain": [
       "  Column Type  Count\n",
       "0       int32      1\n",
       "1       int64      5\n",
       "2     float64      3"
      ]
     },
     "execution_count": 9,
     "metadata": {},
     "output_type": "execute_result"
    }
   ],
   "source": [
    "dtype_df = data.dtypes.reset_index()\n",
    "dtype_df.columns = [\"Count\", \"Column Type\"]\n",
    "dtype_df.groupby(\"Column Type\").aggregate('count').reset_index()"
   ]
  },
  {
   "cell_type": "code",
   "execution_count": 10,
   "metadata": {
    "scrolled": true
   },
   "outputs": [
    {
     "data": {
      "text/plain": [
       "mpg         0\n",
       "cyl         0\n",
       "disp        0\n",
       "hp          0\n",
       "wt          0\n",
       "acc         0\n",
       "yr          0\n",
       "origin      0\n",
       "car_type    0\n",
       "dtype: int64"
      ]
     },
     "execution_count": 10,
     "metadata": {},
     "output_type": "execute_result"
    }
   ],
   "source": [
    "# Checking for Null values\n",
    "data.isnull().sum()"
   ]
  },
  {
   "cell_type": "code",
   "execution_count": 11,
   "metadata": {},
   "outputs": [
    {
     "name": "stdout",
     "output_type": "stream",
     "text": [
      "sum of duplicated values0\n",
      "sum of null values: mpg         0\n",
      "cyl         0\n",
      "disp        0\n",
      "hp          0\n",
      "wt          0\n",
      "acc         0\n",
      "yr          0\n",
      "origin      0\n",
      "car_type    0\n",
      "dtype: int64\n"
     ]
    }
   ],
   "source": [
    "# check for duplicates and null values\n",
    "print('sum of duplicated values{}'   \\\n",
    "      .format(data.duplicated().sum()))\n",
    "print('sum of null values: {}'.format(data.isnull().sum()))"
   ]
  },
  {
   "cell_type": "code",
   "execution_count": 12,
   "metadata": {},
   "outputs": [],
   "source": [
    "# Using VIF to check the presence of Multicollinearity\n",
    "# If VIF < 5 then there is marginal multicollinearity between the variables.\n",
    "# If VIF > 5 then serious multicollinearity between two predictor variables.\n",
    "from patsy import dmatrices\n",
    "from statsmodels.stats.outliers_influence import variance_inflation_factor"
   ]
  },
  {
   "cell_type": "code",
   "execution_count": 13,
   "metadata": {},
   "outputs": [],
   "source": [
    "features = \"+\".join(data.columns.difference([\"mpg\"]))"
   ]
  },
  {
   "cell_type": "code",
   "execution_count": 14,
   "metadata": {},
   "outputs": [
    {
     "data": {
      "text/plain": [
       "'acc+car_type+cyl+disp+hp+origin+wt+yr'"
      ]
     },
     "execution_count": 14,
     "metadata": {},
     "output_type": "execute_result"
    }
   ],
   "source": [
    "features"
   ]
  },
  {
   "cell_type": "code",
   "execution_count": 15,
   "metadata": {},
   "outputs": [],
   "source": [
    "a, b = dmatrices(formula_like= 'mpg ~ ' + features,data=data,return_type=\"dataframe\")\n",
    "vif = pd.DataFrame()\n",
    "\n",
    "vif[\"VIF Factor\"] = [variance_inflation_factor(b.values, i) for i in range(b.shape[1])]\n",
    "vif[\"Features\"] = b.columns"
   ]
  },
  {
   "cell_type": "code",
   "execution_count": 16,
   "metadata": {
    "scrolled": true
   },
   "outputs": [
    {
     "data": {
      "text/html": [
       "<div>\n",
       "<style scoped>\n",
       "    .dataframe tbody tr th:only-of-type {\n",
       "        vertical-align: middle;\n",
       "    }\n",
       "\n",
       "    .dataframe tbody tr th {\n",
       "        vertical-align: top;\n",
       "    }\n",
       "\n",
       "    .dataframe thead th {\n",
       "        text-align: right;\n",
       "    }\n",
       "</style>\n",
       "<table border=\"1\" class=\"dataframe\">\n",
       "  <thead>\n",
       "    <tr style=\"text-align: right;\">\n",
       "      <th></th>\n",
       "      <th>VIF Factor</th>\n",
       "      <th>Features</th>\n",
       "    </tr>\n",
       "  </thead>\n",
       "  <tbody>\n",
       "    <tr>\n",
       "      <th>0</th>\n",
       "      <td>829.667505</td>\n",
       "      <td>Intercept</td>\n",
       "    </tr>\n",
       "    <tr>\n",
       "      <th>1</th>\n",
       "      <td>2.555832</td>\n",
       "      <td>acc</td>\n",
       "    </tr>\n",
       "    <tr>\n",
       "      <th>2</th>\n",
       "      <td>6.870139</td>\n",
       "      <td>car_type</td>\n",
       "    </tr>\n",
       "    <tr>\n",
       "      <th>3</th>\n",
       "      <td>17.668773</td>\n",
       "      <td>cyl</td>\n",
       "    </tr>\n",
       "    <tr>\n",
       "      <th>4</th>\n",
       "      <td>21.902410</td>\n",
       "      <td>disp</td>\n",
       "    </tr>\n",
       "    <tr>\n",
       "      <th>5</th>\n",
       "      <td>9.996561</td>\n",
       "      <td>hp</td>\n",
       "    </tr>\n",
       "    <tr>\n",
       "      <th>6</th>\n",
       "      <td>1.777948</td>\n",
       "      <td>origin</td>\n",
       "    </tr>\n",
       "    <tr>\n",
       "      <th>7</th>\n",
       "      <td>10.719674</td>\n",
       "      <td>wt</td>\n",
       "    </tr>\n",
       "    <tr>\n",
       "      <th>8</th>\n",
       "      <td>1.248284</td>\n",
       "      <td>yr</td>\n",
       "    </tr>\n",
       "  </tbody>\n",
       "</table>\n",
       "</div>"
      ],
      "text/plain": [
       "   VIF Factor   Features\n",
       "0  829.667505  Intercept\n",
       "1    2.555832        acc\n",
       "2    6.870139   car_type\n",
       "3   17.668773        cyl\n",
       "4   21.902410       disp\n",
       "5    9.996561         hp\n",
       "6    1.777948     origin\n",
       "7   10.719674         wt\n",
       "8    1.248284         yr"
      ]
     },
     "execution_count": 16,
     "metadata": {},
     "output_type": "execute_result"
    }
   ],
   "source": [
    "vif"
   ]
  },
  {
   "cell_type": "code",
   "execution_count": 17,
   "metadata": {},
   "outputs": [],
   "source": [
    "# Droping the features which having strong multicollinearity\n",
    "data = data.drop(['cyl','disp','wt','hp'], axis = 1)"
   ]
  },
  {
   "cell_type": "markdown",
   "metadata": {},
   "source": [
    "### Let’s visualize the relationships between the Mileage Per Galon(mpg) of a car and the other features."
   ]
  },
  {
   "cell_type": "code",
   "execution_count": 19,
   "metadata": {},
   "outputs": [
    {
     "data": {
      "image/png": "[encoded data removed]",
      "text/plain": [
       "<Figure size 720x432 with 2 Axes>"
      ]
     },
     "metadata": {
      "needs_background": "light"
     },
     "output_type": "display_data"
    }
   ],
   "source": [
    "import seaborn as sns\n",
    "plt.figure(figsize=(10,6))\n",
    "sns.heatmap(data.corr(),cmap=plt.cm.Reds,annot=True)\n",
    "plt.title('Heatmap displaying the relationship between\\nthe features of the data',fontsize=13)\n",
    "plt.show()"
   ]
  },
  {
   "cell_type": "code",
   "execution_count": 20,
   "metadata": {},
   "outputs": [
    {
     "data": {
      "text/html": [
       "<div>\n",
       "<style scoped>\n",
       "    .dataframe tbody tr th:only-of-type {\n",
       "        vertical-align: middle;\n",
       "    }\n",
       "\n",
       "    .dataframe tbody tr th {\n",
       "        vertical-align: top;\n",
       "    }\n",
       "\n",
       "    .dataframe thead th {\n",
       "        text-align: right;\n",
       "    }\n",
       "</style>\n",
       "<table border=\"1\" class=\"dataframe\">\n",
       "  <thead>\n",
       "    <tr style=\"text-align: right;\">\n",
       "      <th></th>\n",
       "      <th>mpg</th>\n",
       "      <th>acc</th>\n",
       "      <th>yr</th>\n",
       "      <th>origin</th>\n",
       "      <th>car_type</th>\n",
       "    </tr>\n",
       "  </thead>\n",
       "  <tbody>\n",
       "    <tr>\n",
       "      <th>mpg</th>\n",
       "      <td>1.000000</td>\n",
       "      <td>0.420289</td>\n",
       "      <td>0.579267</td>\n",
       "      <td>0.563450</td>\n",
       "      <td>0.759207</td>\n",
       "    </tr>\n",
       "    <tr>\n",
       "      <th>acc</th>\n",
       "      <td>0.420289</td>\n",
       "      <td>1.000000</td>\n",
       "      <td>0.288137</td>\n",
       "      <td>0.205873</td>\n",
       "      <td>0.385187</td>\n",
       "    </tr>\n",
       "    <tr>\n",
       "      <th>yr</th>\n",
       "      <td>0.579267</td>\n",
       "      <td>0.288137</td>\n",
       "      <td>1.000000</td>\n",
       "      <td>0.180662</td>\n",
       "      <td>0.305194</td>\n",
       "    </tr>\n",
       "    <tr>\n",
       "      <th>origin</th>\n",
       "      <td>0.563450</td>\n",
       "      <td>0.205873</td>\n",
       "      <td>0.180662</td>\n",
       "      <td>1.000000</td>\n",
       "      <td>0.572691</td>\n",
       "    </tr>\n",
       "    <tr>\n",
       "      <th>car_type</th>\n",
       "      <td>0.759207</td>\n",
       "      <td>0.385187</td>\n",
       "      <td>0.305194</td>\n",
       "      <td>0.572691</td>\n",
       "      <td>1.000000</td>\n",
       "    </tr>\n",
       "  </tbody>\n",
       "</table>\n",
       "</div>"
      ],
      "text/plain": [
       "               mpg       acc        yr    origin  car_type\n",
       "mpg       1.000000  0.420289  0.579267  0.563450  0.759207\n",
       "acc       0.420289  1.000000  0.288137  0.205873  0.385187\n",
       "yr        0.579267  0.288137  1.000000  0.180662  0.305194\n",
       "origin    0.563450  0.205873  0.180662  1.000000  0.572691\n",
       "car_type  0.759207  0.385187  0.305194  0.572691  1.000000"
      ]
     },
     "execution_count": 20,
     "metadata": {},
     "output_type": "execute_result"
    }
   ],
   "source": [
    "data.corr()"
   ]
  },
  {
   "cell_type": "markdown",
   "metadata": {},
   "source": [
    "** There is a strong negative correlation between the displacement,horsepower,weight,and cylinders.This implies that,as any one of those variables increases,the mpg decreases.\n",
    "** The displacement,horsepower,weight,and cylinders have a strong positive correlations between themselves and this violates the non-multi collinearity assumption of Linear regression"
   ]
  },
  {
   "cell_type": "code",
   "execution_count": 21,
   "metadata": {},
   "outputs": [
    {
     "data": {
      "image/png": "[encoded data removed]",
      "text/plain": [
       "<Figure size 1440x1080 with 6 Axes>"
      ]
     },
     "metadata": {
      "needs_background": "light"
     },
     "output_type": "display_data"
    }
   ],
   "source": [
    "%matplotlib inline\n",
    "import matplotlib.pyplot as plt\n",
    "data.hist(bins=50, figsize=(20,15))\n",
    "\n",
    "plt.savefig(\"attribute_histogram_plots\")\n",
    "plt.show()"
   ]
  },
  {
   "cell_type": "code",
   "execution_count": 22,
   "metadata": {
    "scrolled": false
   },
   "outputs": [
    {
     "data": {
      "image/png": "[encoded data removed]",
      "text/plain": [
       "<Figure size 432x288 with 1 Axes>"
      ]
     },
     "metadata": {
      "needs_background": "light"
     },
     "output_type": "display_data"
    }
   ],
   "source": [
    "data.plot(kind=\"scatter\", x=\"car_type\", y=\"mpg\", alpha=0.2)\n",
    "plt.savefig('map1.png')"
   ]
  },
  {
   "cell_type": "code",
   "execution_count": 23,
   "metadata": {},
   "outputs": [
    {
     "data": {
      "text/plain": [
       "mpg         1.000000\n",
       "car_type    0.759207\n",
       "yr          0.579267\n",
       "origin      0.563450\n",
       "acc         0.420289\n",
       "Name: mpg, dtype: float64"
      ]
     },
     "execution_count": 23,
     "metadata": {},
     "output_type": "execute_result"
    }
   ],
   "source": [
    "corr_matrix = data.corr()\n",
    "corr_matrix[\"mpg\"].sort_values(ascending=False)"
   ]
  },
  {
   "cell_type": "code",
   "execution_count": 25,
   "metadata": {
    "scrolled": false
   },
   "outputs": [
    {
     "data": {
      "image/png": "[encoded data removed]",
      "text/plain": [
       "<Figure size 864x576 with 25 Axes>"
      ]
     },
     "metadata": {
      "needs_background": "light"
     },
     "output_type": "display_data"
    }
   ],
   "source": [
    "from pandas.plotting import scatter_matrix\n",
    "attributes = ['mpg', 'acc', 'yr', 'origin', 'car_type']\n",
    "scatter_matrix(data[attributes], figsize=(12, 8))\n",
    "plt.savefig(\"scatter_matrix_plot.png\")\n",
    "plt.show()"
   ]
  },
  {
   "cell_type": "code",
   "execution_count": 26,
   "metadata": {},
   "outputs": [
    {
     "data": {
      "text/plain": [
       "12"
      ]
     },
     "execution_count": 26,
     "metadata": {},
     "output_type": "execute_result"
    }
   ],
   "source": [
    "data_dup = data.duplicated()\n",
    "sum(data_dup)"
   ]
  },
  {
   "cell_type": "markdown",
   "metadata": {},
   "source": [
    "### Converting dataset to dependent and independant vectors"
   ]
  },
  {
   "cell_type": "code",
   "execution_count": 27,
   "metadata": {},
   "outputs": [],
   "source": [
    "X = data.drop(['mpg'], axis = 1)\n",
    "y = data['mpg']"
   ]
  },
  {
   "cell_type": "code",
   "execution_count": 28,
   "metadata": {},
   "outputs": [],
   "source": [
    "# Splitting the dataset into testing and training set's\n",
    "from sklearn.model_selection import train_test_split\n",
    "X_train, X_test, y_train, y_test = train_test_split(X, y, test_size=0.25, random_state=42)"
   ]
  },
  {
   "cell_type": "code",
   "execution_count": 29,
   "metadata": {
    "scrolled": true
   },
   "outputs": [
    {
     "name": "stdout",
     "output_type": "stream",
     "text": [
      "(298, 4)\n",
      "(100, 4)\n",
      "(298,)\n",
      "(100,)\n"
     ]
    }
   ],
   "source": [
    "# Dimensions of datset after splitting into testing and training set's\n",
    "\n",
    "print(X_train.shape)\n",
    "print(X_test.shape)\n",
    "print(y_train.shape)\n",
    "print(y_test.shape)"
   ]
  },
  {
   "cell_type": "code",
   "execution_count": 34,
   "metadata": {
    "scrolled": true
   },
   "outputs": [
    {
     "name": "stdout",
     "output_type": "stream",
     "text": [
      "[[-0.45458866  0.53837478 -0.71698901  0.95407359]\n",
      " [ 0.30443371 -0.86158757  1.78199023  0.95407359]\n",
      " [-0.05700552 -1.70156498 -0.71698901 -1.04813718]\n",
      " ...\n",
      " [-0.31001297  0.53837478  1.78199023  0.95407359]\n",
      " [ 0.59358509  1.3783522   1.78199023  0.95407359]\n",
      " [ 1.93091021 -0.86158757  0.53250061  0.95407359]]\n",
      "[[ 0.62972901 -0.02161016  1.78199023  0.95407359]\n",
      " [ 1.06345608  1.65834467 -0.71698901  0.95407359]\n",
      " [-0.96060357 -1.42157251 -0.71698901 -1.04813718]\n",
      " [-0.88831573 -0.02161016 -0.71698901 -1.04813718]\n",
      " [-0.41844474 -0.86158757 -0.71698901 -1.04813718]\n",
      " [ 0.30443371 -1.14158004  1.78199023  0.95407359]\n",
      " [ 0.26828979  1.65834467 -0.71698901  0.95407359]\n",
      " [-1.68348202 -0.86158757 -0.71698901 -1.04813718]\n",
      " [ 1.20803176  0.25838231 -0.71698901 -1.04813718]\n",
      " [ 0.48515332 -0.5815951  -0.71698901 -1.04813718]\n",
      " [-2.58708008 -1.70156498 -0.71698901 -1.04813718]\n",
      " [-0.23772513  1.65834467  1.78199023  0.95407359]\n",
      " [ 1.7501906  -1.42157251 -0.71698901  0.95407359]\n",
      " [-1.14132318 -1.14158004 -0.71698901 -1.04813718]\n",
      " [ 0.48515332 -0.5815951  -0.71698901  0.95407359]\n",
      " [-1.50276241 -1.42157251 -0.71698901 -1.04813718]\n",
      " [ 0.19600194  1.65834467 -0.71698901  0.95407359]\n",
      " [-0.74374004  0.53837478  0.53250061 -1.04813718]\n",
      " [-1.6473381   0.25838231 -0.71698901 -1.04813718]\n",
      " [ 0.70201685  1.65834467  1.78199023  0.95407359]\n",
      " [ 0.84659254 -1.14158004  0.53250061  0.95407359]\n",
      " [-0.05700552 -1.70156498 -0.71698901 -1.04813718]\n",
      " [-0.34615689  1.65834467 -0.71698901 -1.04813718]\n",
      " [ 0.08757017  0.25838231 -0.71698901  0.95407359]\n",
      " [-1.3220428  -1.70156498 -0.71698901 -1.04813718]\n",
      " [ 3.23209141  1.65834467  0.53250061  0.95407359]\n",
      " [-0.05700552 -0.86158757  0.53250061  0.95407359]\n",
      " [ 0.1237141   0.25838231 -0.71698901  0.95407359]\n",
      " [-0.2015812   0.53837478 -0.71698901 -1.04813718]\n",
      " [-1.14132318 -0.86158757 -0.71698901 -1.04813718]\n",
      " [-0.02086159  1.65834467 -0.71698901  0.95407359]\n",
      " [-0.12929336  1.65834467  0.53250061  0.95407359]\n",
      " [ 0.62972901  0.81836726 -0.71698901 -1.04813718]\n",
      " [-0.05700552 -1.14158004  1.78199023  0.95407359]\n",
      " [ 0.26828979  1.09835973  1.78199023  0.95407359]\n",
      " [-2.22564085 -0.86158757 -0.71698901 -1.04813718]\n",
      " [-0.59916435 -0.86158757 -0.71698901 -1.04813718]\n",
      " [-0.88831573  0.53837478 -0.71698901 -1.04813718]\n",
      " [-0.41844474 -0.30160263 -0.71698901 -1.04813718]\n",
      " [ 0.30443371 -0.5815951   0.53250061  0.95407359]\n",
      " [-0.99674749  0.81836726 -0.71698901 -1.04813718]\n",
      " [ 1.20803176 -1.42157251  0.53250061  0.95407359]\n",
      " [-0.41844474 -1.14158004  0.53250061  0.95407359]\n",
      " [-0.59916435 -1.70156498 -0.71698901 -1.04813718]\n",
      " [-0.41844474 -1.14158004  1.78199023  0.95407359]\n",
      " [-0.41844474  1.65834467  1.78199023  0.95407359]\n",
      " [-0.59916435 -0.5815951   0.53250061  0.95407359]\n",
      " [-0.77988396 -0.30160263  0.53250061  0.95407359]\n",
      " [ 0.66587293 -1.70156498  0.53250061  0.95407359]\n",
      " [ 0.30443371 -0.30160263  0.53250061  0.95407359]\n",
      " [ 1.20803176 -1.42157251 -0.71698901  0.95407359]\n",
      " [-0.16543728  0.81836726  1.78199023  0.95407359]\n",
      " [ 0.48515332  1.09835973  1.78199023  0.95407359]\n",
      " [-1.14132318 -1.14158004 -0.71698901 -1.04813718]\n",
      " [-1.10517926  1.3783522  -0.71698901 -1.04813718]\n",
      " [-1.50276241 -1.42157251 -0.71698901 -1.04813718]\n",
      " [-0.96060357  0.81836726 -0.71698901 -1.04813718]\n",
      " [-0.05700552  1.09835973  1.78199023  0.95407359]\n",
      " [-0.05700552 -1.42157251 -0.71698901  0.95407359]\n",
      " [ 0.1237141  -0.30160263 -0.71698901 -1.04813718]\n",
      " [-1.68348202 -0.86158757 -0.71698901 -1.04813718]\n",
      " [ 0.66587293 -0.30160263  1.78199023  0.95407359]\n",
      " [ 0.48515332 -0.30160263 -0.71698901  0.95407359]\n",
      " [ 1.38875138 -1.14158004  0.53250061  0.95407359]\n",
      " [ 0.1237141  -0.86158757 -0.71698901 -1.04813718]\n",
      " [-0.59916435 -1.42157251  1.78199023  0.95407359]\n",
      " [ 0.70201685  0.53837478 -0.71698901  0.95407359]\n",
      " [ 0.19600194  1.3783522  -0.71698901  0.95407359]\n",
      " [ 2.32849336 -0.02161016 -0.71698901  0.95407359]\n",
      " [-0.59916435 -1.14158004 -0.71698901 -1.04813718]\n",
      " [-0.27386905  1.3783522  -0.71698901  0.95407359]\n",
      " [-0.05700552 -0.5815951  -0.71698901 -1.04813718]\n",
      " [-2.04492124 -1.70156498 -0.71698901 -1.04813718]\n",
      " [-0.77988396 -1.42157251 -0.71698901 -1.04813718]\n",
      " [ 0.26828979  1.65834467 -0.71698901 -1.04813718]\n",
      " [-0.05700552  0.53837478 -0.71698901 -1.04813718]\n",
      " [ 0.26828979  0.25838231 -0.71698901 -1.04813718]\n",
      " [ 1.4248953   1.65834467 -0.71698901  0.95407359]\n",
      " [-0.59916435 -0.30160263  0.53250061  0.95407359]\n",
      " [-0.09314944  0.81836726 -0.71698901 -1.04813718]\n",
      " [-1.3220428  -1.70156498 -0.71698901 -1.04813718]\n",
      " [-0.41844474 -1.70156498  1.78199023  0.95407359]\n",
      " [ 0.91888039  1.65834467  1.78199023  0.95407359]\n",
      " [ 0.26828979  0.53837478  1.78199023  0.95407359]\n",
      " [-0.23772513 -0.30160263  0.53250061  0.95407359]\n",
      " [-1.3220428  -1.14158004 -0.71698901 -1.04813718]\n",
      " [ 1.35260745  0.53837478  1.78199023  0.95407359]\n",
      " [ 1.82247844  1.3783522  -0.71698901  0.95407359]\n",
      " [ 1.20803176 -0.86158757  1.78199023  0.95407359]\n",
      " [-1.50276241 -0.86158757 -0.71698901 -1.04813718]\n",
      " [-1.24975495  0.25838231 -0.71698901 -1.04813718]\n",
      " [-1.14132318  1.09835973  1.78199023  0.95407359]\n",
      " [-0.05700552 -0.86158757  0.53250061  0.95407359]\n",
      " [ 1.06345608  0.25838231  0.53250061  0.95407359]\n",
      " [-0.05700552 -0.02161016  1.78199023 -1.04813718]\n",
      " [-0.34615689  1.65834467 -0.71698901  0.95407359]\n",
      " [ 0.1237141   1.65834467 -0.71698901  0.95407359]\n",
      " [-0.09314944  0.81836726 -0.71698901 -1.04813718]\n",
      " [-0.45458866  1.09835973 -0.71698901  0.95407359]\n",
      " [-0.59916435 -1.14158004 -0.71698901 -1.04813718]]\n"
     ]
    }
   ],
   "source": [
    "from sklearn.preprocessing import StandardScaler\n",
    "scaler= StandardScaler()\n",
    "scaler.fit(X_train)\n",
    "X_train_res=scaler.transform(X_train)\n",
    "X_test_res=scaler.transform(X_test)\n",
    "print(X_train_res)\n",
    "print(X_test_res)"
   ]
  },
  {
   "cell_type": "markdown",
   "metadata": {},
   "source": [
    "## Building a Linear Regression Model"
   ]
  },
  {
   "cell_type": "code",
   "execution_count": 35,
   "metadata": {},
   "outputs": [
    {
     "name": "stdout",
     "output_type": "stream",
     "text": [
      "Estimated intercept coefficient: 23.52684563758389\n",
      "Number of coefficients: [0.56353975 2.80547014 1.55191192 4.00260102]\n"
     ]
    }
   ],
   "source": [
    "# Fitting Simple Linear Regression model to the training data\n",
    "from sklearn.linear_model import LinearRegression\n",
    "# Instantiating LinearRegression Model\n",
    "linear_regression = LinearRegression()\n",
    "# Fitting to the training data\n",
    "linear_regression.fit(X_train_res, y_train)\n",
    "\n",
    "print('Estimated intercept coefficient:', linear_regression.intercept_)\n",
    "\n",
    "print('Number of coefficients:', linear_regression.coef_)"
   ]
  },
  {
   "cell_type": "code",
   "execution_count": 36,
   "metadata": {},
   "outputs": [
    {
     "data": {
      "text/plain": [
       "0.7626454406145371"
      ]
     },
     "execution_count": 36,
     "metadata": {},
     "output_type": "execute_result"
    }
   ],
   "source": [
    "predictions = linear_regression.predict(X_test_res)\n",
    "linear_regression.score(X_test_res, y_test)"
   ]
  },
  {
   "cell_type": "code",
   "execution_count": 37,
   "metadata": {},
   "outputs": [
    {
     "name": "stdout",
     "output_type": "stream",
     "text": [
      "The model performance for training set\n",
      "--------------------------------------\n",
      "RMSE is 4.0945853857326835\n",
      "R2 score is 0.7310140294066281\n",
      "\n",
      "\n",
      "The model performance for testing set\n",
      "--------------------------------------\n",
      "RMSE is 3.6712159321589057\n",
      "R2 score is 0.7626454406145371\n"
     ]
    }
   ],
   "source": [
    "#import libraries\n",
    "from sklearn.metrics import mean_squared_error,r2_score\n",
    "# model evaluation for training set\n",
    "y_train_predict = linear_regression.predict(X_train_res)\n",
    "rmse = (np.sqrt(mean_squared_error(y_train, y_train_predict)))\n",
    "r2 = r2_score(y_train, y_train_predict)\n",
    "print(\"The model performance for training set\")\n",
    "print(\"--------------------------------------\")\n",
    "print('RMSE is {}'.format(rmse))\n",
    "print('R2 score is {}'.format(r2))\n",
    "print(\"\\n\")\n",
    "# model evaluation for testing set\n",
    "y_test_predict = linear_regression.predict(X_test_res)\n",
    "rmse = (np.sqrt(mean_squared_error(y_test, y_test_predict)))\n",
    "r2 = r2_score(y_test, y_test_predict)\n",
    "print(\"The model performance for testing set\")\n",
    "print(\"--------------------------------------\")\n",
    "print('RMSE is {}'.format(rmse))\n",
    "print('R2 score is {}'.format(r2))"
   ]
  },
  {
   "cell_type": "code",
   "execution_count": 38,
   "metadata": {},
   "outputs": [],
   "source": [
    "# RMSE\n",
    "from sklearn.metrics import mean_squared_error\n",
    "regressor_mse = mean_squared_error(predictions, y_test)\n"
   ]
  },
  {
   "cell_type": "code",
   "execution_count": 39,
   "metadata": {},
   "outputs": [
    {
     "data": {
      "text/plain": [
       "3.6712159321589057"
      ]
     },
     "execution_count": 39,
     "metadata": {},
     "output_type": "execute_result"
    }
   ],
   "source": [
    "import math\n",
    "math.sqrt(regressor_mse)"
   ]
  },
  {
   "cell_type": "code",
   "execution_count": 40,
   "metadata": {},
   "outputs": [
    {
     "name": "stdout",
     "output_type": "stream",
     "text": [
      "Linear Regression RMSE: 3.6712\n"
     ]
    }
   ],
   "source": [
    "import numpy as np\n",
    "from sklearn.metrics import mean_squared_error\n",
    "lin_mse = mean_squared_error(predictions, y_test)\n",
    "lin_rmse = np.sqrt(lin_mse)\n",
    "print('Linear Regression RMSE: %.4f' % lin_rmse)"
   ]
  },
  {
   "cell_type": "code",
   "execution_count": 41,
   "metadata": {},
   "outputs": [
    {
     "name": "stdout",
     "output_type": "stream",
     "text": [
      "Linear Regression MAE: 2.9912\n"
     ]
    }
   ],
   "source": [
    "# Mean Absolute Error\n",
    "from sklearn.metrics import mean_absolute_error\n",
    "lin_mae = mean_absolute_error(predictions, y_test)\n",
    "print('Linear Regression MAE: %.4f' % lin_mae)\n"
   ]
  },
  {
   "cell_type": "markdown",
   "metadata": {},
   "source": [
    "## Residual Plot\n",
    "\n",
    "#### we plot a residual plot to check linear regression assumptions. Residual plot is a good way to check for homoscedasticity."
   ]
  },
  {
   "cell_type": "code",
   "execution_count": 42,
   "metadata": {},
   "outputs": [
    {
     "data": {
      "image/png": "[encoded data removed]",
      "text/plain": [
       "<Figure size 432x288 with 1 Axes>"
      ]
     },
     "metadata": {
      "needs_background": "light"
     },
     "output_type": "display_data"
    }
   ],
   "source": [
    "plt.scatter(linear_regression.predict(X_train_res), linear_regression.predict(X_train_res)-\n",
    "y_train, c='indianred', s=40)\n",
    "plt.scatter(linear_regression.predict(X_test_res), linear_regression.predict(X_test_res)-\n",
    "y_test, c='b', s=40)\n",
    "plt.hlines(y=0, xmin=0, xmax=200)\n",
    "plt.title('Residual plot using training(red) and test(blue) data')\n",
    "plt.ylabel('Residual')\n",
    "plt.savefig('residual_plot.png')"
   ]
  },
  {
   "cell_type": "code",
   "execution_count": 43,
   "metadata": {},
   "outputs": [
    {
     "name": "stdout",
     "output_type": "stream",
     "text": [
      "Train score: 0.7310140294066281\n",
      "\n",
      "Test score: 0.7626454406145371\n",
      "\n",
      "Overall model accuracy: 0.7626454406145371\n",
      "\n",
      "Mean Squared Error: 13.477826420537385\n"
     ]
    }
   ],
   "source": [
    "model = LinearRegression()  # initialize the LinearRegression model\n",
    "model.fit(X_train_res,y_train) \n",
    "linear_pred = model.predict(X_test_res)  # make prediction with the fitted model\n",
    "\n",
    "# score the model on the train set\n",
    "print('Train score: {}\\n'.format(model.score(X_train_res,y_train)))\n",
    "# score the model on the test set\n",
    "print('Test score: {}\\n'.format(model.score(X_test_res,y_test)))\n",
    "# calculate the overall accuracy of the model\n",
    "print('Overall model accuracy: {}\\n'.format(r2_score(y_test,linear_pred)))\n",
    "# compute the mean squared error of the model\n",
    "print('Mean Squared Error: {}'.format(mean_squared_error(y_test,linear_pred)))"
   ]
  },
  {
   "cell_type": "code",
   "execution_count": 46,
   "metadata": {},
   "outputs": [
    {
     "name": "stdout",
     "output_type": "stream",
     "text": [
      "Train score: 0.731014029030417\n",
      "\n",
      "Test score: 0.7626468395691675\n",
      "\n",
      "Overall model accuracy: 0.7626468395691673\n",
      "\n",
      "Mean Squared Error: 13.477746982974754\n"
     ]
    }
   ],
   "source": [
    "ridge = Ridge(alpha=.01)\n",
    "ridge.fit(X_train_res,y_train)  # fit the model with the training data\n",
    "\n",
    "ridge_pred = ridge.predict(X_test_res)  # make predictions\n",
    "\n",
    "# score the model to check the accuracy\n",
    "print('Train score: {}\\n'.format(ridge.score(X_train_res,y_train)))\n",
    "print('Test score: {}\\n'.format(ridge.score(X_test_res,y_test)))\n",
    "print('Overall model accuracy: {}\\n'.format(r2_score(y_test,ridge_pred)))\n",
    "print('Mean Squared Error: {}'.format(mean_squared_error(y_test,ridge_pred)))"
   ]
  },
  {
   "cell_type": "code",
   "execution_count": 49,
   "metadata": {},
   "outputs": [
    {
     "name": "stdout",
     "output_type": "stream",
     "text": [
      "Best parameter found:\n",
      "{'alpha': 1}\n",
      "Train score: 0.7310102990267554\n",
      "\n",
      "Test score: 0.762781268631391\n"
     ]
    }
   ],
   "source": [
    "# we now try to tune the parameters of the ridge model for a better accuracy\n",
    "# we use a grid search to find the best parameters for the ridge model\n",
    "ridge_model = Ridge()\n",
    "\n",
    "param = {'alpha':[0,0.1,0.01,0.001,1]}  # define the parameters\n",
    "\n",
    "# initialize the grid search\n",
    "ridge_search = GridSearchCV(ridge_model,param,cv=5,n_jobs=-1)\n",
    "\n",
    "ridge_search.fit(X_train_res,y_train)   # fit the model \n",
    "\n",
    "# print out the best parameter for ridge and score it on the test and train data\n",
    "print('Best parameter found:\\n{}'.format(ridge_search.best_params_))\n",
    "print('Train score: {}\\n'.format(ridge_search.score(X_train_res,y_train)))\n",
    "print('Test score: {}'.format(ridge_search.score(X_test_res,y_test)))"
   ]
  },
  {
   "cell_type": "code",
   "execution_count": 50,
   "metadata": {},
   "outputs": [
    {
     "name": "stdout",
     "output_type": "stream",
     "text": [
      "Best parameter found:\n",
      "{'alpha': 0.1, 'max_iter': 1000}\n",
      "\n",
      "Train score: 0.730678003702195\n",
      "\n",
      "Test score: 0.7633609430856078\n"
     ]
    }
   ],
   "source": [
    "# let's try and fit a Lasso model for the regression\n",
    "# here, we just move on to making the grid search and find the best parameters\n",
    "lasso = Lasso()\n",
    "\n",
    "param['max_iter'] = [1000,10000,100000,1000000]\n",
    "\n",
    "lasso_search = GridSearchCV(lasso,param,cv=5,n_jobs=-1) # initialize the grid search\n",
    "\n",
    "lasso_search.fit(X_train_res,y_train)  # fit the model\n",
    "\n",
    "# print out the best parameters and score it \n",
    "print('Best parameter found:\\n{}\\n'.format(lasso_search.best_params_))\n",
    "print('Train score: {}\\n'.format(lasso_search.score(X_train_res,y_train)))\n",
    "print('Test score: {}'.format(lasso_search.score(X_test_res,y_test)))"
   ]
  },
  {
   "cell_type": "code",
   "execution_count": null,
   "metadata": {},
   "outputs": [],
   "source": []
  }
 ],
 "metadata": {
  "kernelspec": {
   "display_name": "Python 3",
   "language": "python",
   "name": "python3"
  },
  "language_info": {
   "codemirror_mode": {
    "name": "ipython",
    "version": 3
   },
   "file_extension": ".py",
   "mimetype": "text/x-python",
   "name": "python",
   "nbconvert_exporter": "python",
   "pygments_lexer": "ipython3",
   "version": "3.7.6"
  }
 },
 "nbformat": 4,
 "nbformat_minor": 4
}
